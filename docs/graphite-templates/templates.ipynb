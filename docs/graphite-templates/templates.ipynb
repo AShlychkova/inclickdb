{
 "cells": [
  {
   "cell_type": "markdown",
   "metadata": {},
   "source": [
    "# Graphite-шаблоны в InfluxDB\n"
   ]
  },
  {
   "cell_type": "markdown",
   "metadata": {},
   "source": [
    "Расскажите про язык graphite шаблонов в influxdb. Покажите работающий пример. В идеале — набросать на python небольшой notebook, в котором вы берёте данные в формате графит и преобразуете их в формат межермент-тэг-поле (как это принято в инфлюксе). Используйте разнообразные шаблоны. (5 минут, 10 с ноутбуком)"
   ]
  },
  {
   "cell_type": "markdown",
   "metadata": {},
   "source": [
    "*Note: для работы скриптов у вас должен быть установлен и настроен influxdb, конфиг для работы с графитом ниже* "
   ]
  },
  {
   "cell_type": "markdown",
   "metadata": {},
   "source": [
    "### Graphite\n",
    "\n",
    "#### Metrics\n",
    "\n",
    "Метрики однозначно задаются своим именем (последовательность строк разделенных точкой) и (опционально) набором тегов.\n",
    "\n",
    "Структура:  \n",
    "`path.to.value;tag1=val1;tag2=val2;...`\n",
    "\n",
    "Например, `disk.used;datacenter=dc1;rack=a1;server=web01`\n",
    "\n",
    "#### Messages\n",
    "\n",
    "Формат для сообщений: `metric_path value timestamp`\n",
    "- `metric_path` - путь до метрики (см. выше)\n",
    "- `value` - значение, которое нужно положить\n",
    "- `timestamp` - временная метка. Если присвоить `-1`, **Carbon-cache** сам определит, что поставить\n",
    "\n",
    "Например, `test.bash.stats 10 -1`"
   ]
  },
  {
   "cell_type": "markdown",
   "metadata": {},
   "source": [
    "### InfluxDB\n",
    "\n",
    "#### Временные ряды (aka time series)\n",
    "\n",
    "Основная единица хранения информации - временные ряды. Ряды состоят из точек (конкретных измерений данного ряда).\n",
    "\n",
    "Структура:  \n",
    "`<measurement>[,<tag-key>=<tag-value>...] <field-key>=<field-value>[,<field2-key>=<field2-value>...] [timestamp]`\n",
    "\n",
    "- `measurement` - что хотим измерить\n",
    "- `tags` - теги \n",
    "- `fields` - значения измерения (может быть несколько)\n",
    "- `timestamp` - временная метка (если не указана, используется текущий локальный timestamp)\n",
    "\n",
    "Например, `temperature,machine=unit42,type=assembly external=25,internal=37 1434067467000000000`"
   ]
  },
  {
   "cell_type": "markdown",
   "metadata": {},
   "source": [
    "### Graphite шаблоны в InfluxDB\n",
    "\n",
    "В конфиге можно указать, по какому шаблону мы хотим получать graphite-данные.\n",
    "\n",
    "Есть ключевые слова:  \n",
    " - `measurement` - для, собственно, measurement'a в инфлюксе.  \n",
    " - `field` - для значения. Если не указать, будет назван `value`.\n",
    "\n",
    "Остальные слова являются именами для тегов.\n",
    "\n",
    "##### Пример\n",
    " - Шаблон: `.host.resource.measurement*`  \n",
    " - Метрика: `servers.localhost.cpu.loadavg.10 555` => `loadavg.10,host=localhost,resource=cpu value=555`\n",
    "\n",
    "`measurement` может быть прописан несколько раз, тогда сматчившиеся подстроки сконкатенируются с разделителем (по дефолту `.`, можно указать в конфиге). C `field` такое не прокатит.\n",
    "\n",
    "Можно добавлять свои теги к шаблону.\n",
    "\n",
    "#### Фильтры\n",
    "\n",
    "Допустим, мы добавили несколько шаблонов для матча. Чтобы определять, какая точка должна пойти в какой шаблон, перед ним надо добавить *фильтр*.\n",
    "\n",
    "Можно задавать дефолтные шаблоны для парсинга тех значений, которые не подошли ни под один фильтр.  \n",
    "Можно добавить дефолтные теги, которые будут добавляться к каждой записи."
   ]
  },
  {
   "cell_type": "markdown",
   "metadata": {},
   "source": [
    "### Пример конфига\n",
    "```\n",
    " [[graphite]]\n",
    "  enabled = true\n",
    "  bind-address = \":2103\"\n",
    "   \n",
    "  separator = \"_\"\n",
    "\n",
    "  tags = [\"region=moscow\", \"answer=42\"]\n",
    "  \n",
    "   templates = [\n",
    "     \"servers.* .host.resource.measurement.field.measurement* extra_tag=extra_value\",\n",
    "     \"stats.* .host.name.measurement*\",\n",
    "     \".measurement*\"\n",
    "   ]\n",
    "```"
   ]
  },
  {
   "cell_type": "code",
   "execution_count": 1,
   "metadata": {},
   "outputs": [],
   "source": [
    "import socket\n",
    "import time\n",
    "import random\n",
    "import re\n",
    "import requests"
   ]
  },
  {
   "cell_type": "markdown",
   "metadata": {},
   "source": [
    "#### Скрипт, генeрирующий и посылающий graphite-данные в carbon, которые затем кладутся в InfluxDB (carbon-send.py)"
   ]
  },
  {
   "cell_type": "code",
   "execution_count": null,
   "metadata": {},
   "outputs": [],
   "source": [
    "CARBON_SERVER = 'localhost'\n",
    "CARBON_PORT = 2103 # write your carbon port here (default 2003)\n",
    "\n",
    "metric_path = \"servers.local.cpu.prefix.avg.middle.suffix\"\n",
    "value = 0 \n",
    "sock = socket.socket()\n",
    "sock.connect((CARBON_SERVER, CARBON_PORT))\n",
    "while True:\n",
    "    value = random.uniform(-100, 100) \n",
    "    time.sleep(1)\n",
    "    message = '%s %s\\n' % (metric_path, value)\n",
    "    sock.sendall(message.encode('utf-8'))\n",
    "sock.close()"
   ]
  },
  {
   "cell_type": "markdown",
   "metadata": {},
   "source": [
    "#### Ручной парсер graphite -> influx метрик"
   ]
  },
  {
   "cell_type": "code",
   "execution_count": 4,
   "metadata": {},
   "outputs": [],
   "source": [
    "class Template:\n",
    "    def __init__(self):\n",
    "        self.filter = None\n",
    "        self.matcher = None\n",
    "        self.default = []\n",
    "        \n",
    "    def match(self, metric):\n",
    "        if self.filter is None:\n",
    "            return True\n",
    "        return self.filter.match(metric) is not None\n",
    "    \n",
    "    def parse(self, metrics, sep, default_tags, value):\n",
    "        measurement = ''\n",
    "        field_name = 'value'\n",
    "        tags = {}\n",
    "        for tag in default_tags:\n",
    "            name, val = tag.split('=')\n",
    "            tags[name] = val\n",
    "        for tag in self.default:\n",
    "            name, val = tag.split('=')\n",
    "            tags[name] = val\n",
    "        for i in range(len(metrics)):\n",
    "            name = self.matcher[i]\n",
    "            val = metrics[i]\n",
    "            if '' == name:\n",
    "                continue\n",
    "            if 'measurement' == name:\n",
    "                measurement += sep + val\n",
    "            elif 'measurement*' == name:\n",
    "                measurement += sep + sep.join(list(metrics[k] for k in range(i, len(metrics))))\n",
    "                break\n",
    "            elif 'field' == name:\n",
    "                field_name = val\n",
    "            elif 'field*' == name:\n",
    "                field_name = sep.join(list(metrics[k] for k in range(i, len(metrics))))\n",
    "                break\n",
    "            else:\n",
    "                tags[name] = val\n",
    "        \n",
    "        answer = measurement[1:]\n",
    "        answer += ',' + ','.join(['='.join(k) for k in tags.items()])\n",
    "        answer += ' ' + field_name + '=' + value\n",
    "        return answer\n",
    "    \n",
    "class MetricParser:\n",
    "    def __init__(self, sep='.', default_tags=None):\n",
    "        self.sep = sep\n",
    "        self.default_tags = default_tags.split(',')\n",
    "        self.templates = []\n",
    "        \n",
    "    def add(self, template):\n",
    "        tokens = template.split()\n",
    "        t = Template()\n",
    "        filter_index = matcher_index = default_index = 3\n",
    "        if len(tokens) == 3:\n",
    "            filter_index = 0\n",
    "            matcher_index = 1\n",
    "            default_index = -1\n",
    "        elif len(tokens) == 2:\n",
    "            if '=' in tokens[-1]:\n",
    "                matcher_index = 0\n",
    "                default_index = -1\n",
    "            else:\n",
    "                filter_index = 0\n",
    "                matcher_index = 1\n",
    "        else:\n",
    "            matcher_index = 0\n",
    "        t.matcher = tokens[matcher_index].split('.')\n",
    "        if filter_index != 3:\n",
    "            t.filter = re.compile(tokens[filter_index].replace('.', '\\.').replace('*', '[^\\.]*'))\n",
    "        if default_index != 3:\n",
    "            t.default = tokens[default_index].split(',')\n",
    "        self.templates.append(t)\n",
    "        return self\n",
    "    \n",
    "    def parse(self, metric):\n",
    "        try:\n",
    "            metric, value = metric.split(' ')\n",
    "            for t in self.templates:\n",
    "                if t.match(metric):\n",
    "                    return t.parse(metric.split('.'), self.sep, self.default_tags, value)\n",
    "        except ValueError:\n",
    "            print(\"Invalid format\")"
   ]
  },
  {
   "cell_type": "code",
   "execution_count": 5,
   "metadata": {},
   "outputs": [
    {
     "name": "stdout",
     "output_type": "stream",
     "text": [
      "prefix_middle_suffix,region=moscow,answer=42,extra_tag=extra_value,host=local,resource=cpu avg=10\n",
      "\n",
      "bbb_ccc,region=moscow,answer=42 value=24\n",
      "\n",
      "a_b_c_d_e_f,region=moscow,answer=42,host=local,name=stat1 value=432\n",
      "\n",
      "loss,region=moscow,answer=42,type=hardware dollars=25300\n"
     ]
    }
   ],
   "source": [
    "parser = MetricParser(sep='_', default_tags='region=moscow,answer=42')\n",
    "parser = parser.add('servers.* .host.resource.measurement.field.measurement* extra_tag=extra_value')\\\n",
    ".add('stats.* .host.name.measurement*')\\\n",
    ".add('failures.*.db1 ...type.measurement.field')\\\n",
    ".add('.measurement*')\n",
    "\n",
    "print(parser.parse('servers.local.cpu.prefix.avg.middle.suffix 10'))\n",
    "print()\n",
    "print(parser.parse('aaa.bbb.ccc 24'))\n",
    "print()\n",
    "print(parser.parse('stats.local.stat1.a.b.c.d.e.f 432'))\n",
    "print()\n",
    "print(parser.parse('failures.russia.db1.hardware.loss.dollars 25300'))"
   ]
  },
  {
   "cell_type": "markdown",
   "metadata": {},
   "source": [
    "#### Скрипт для ручного преобразования graphite-данных и дальнейшей вставки в базу (parser-send.py)"
   ]
  },
  {
   "cell_type": "code",
   "execution_count": null,
   "metadata": {},
   "outputs": [],
   "source": [
    "address = 'http://localhost:8086/write?db=graphite'\n",
    "\n",
    "while True:\n",
    "    value = random.uniform(-100, 100)\n",
    "    time.sleep(1)\n",
    "    data = parser.parse('servers.local.gpu.prefix.avg.middle.suffix {0}').format(value)\n",
    "    r = requests.post(address, data=data)"
   ]
  }
 ],
 "metadata": {
  "kernelspec": {
   "display_name": "Python 3",
   "language": "python",
   "name": "python3"
  },
  "language_info": {
   "codemirror_mode": {
    "name": "ipython",
    "version": 3
   },
   "file_extension": ".py",
   "mimetype": "text/x-python",
   "name": "python",
   "nbconvert_exporter": "python",
   "pygments_lexer": "ipython3",
   "version": "3.6.7"
  }
 },
 "nbformat": 4,
 "nbformat_minor": 2
}
